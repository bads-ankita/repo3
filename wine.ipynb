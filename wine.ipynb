{
 "cells": [
  {
   "cell_type": "markdown",
   "id": "2d4dc88c",
   "metadata": {},
   "source": [
    "# WINE QUALITY PREDICTION MODEL"
   ]
  },
  {
   "cell_type": "markdown",
   "id": "10a6393e",
   "metadata": {},
   "source": [
    "#### importing the libraries and load the dataset.."
   ]
  },
  {
   "cell_type": "code",
   "execution_count": 1,
   "id": "88c2123d",
   "metadata": {},
   "outputs": [],
   "source": [
    "import pandas as pd\n",
    "import numpy as np\n",
    "import seaborn as sns\n",
    "import matplotlib.pyplot as plt"
   ]
  },
  {
   "cell_type": "code",
   "execution_count": 2,
   "id": "6f39fea2",
   "metadata": {},
   "outputs": [],
   "source": [
    "w=pd.read_csv(\"C://Users//ANKITA GHOSH//Downloads//winequalityN.csv\")"
   ]
  },
  {
   "cell_type": "code",
   "execution_count": 3,
   "id": "029078da",
   "metadata": {},
   "outputs": [
    {
     "data": {
      "text/html": [
       "<div>\n",
       "<style scoped>\n",
       "    .dataframe tbody tr th:only-of-type {\n",
       "        vertical-align: middle;\n",
       "    }\n",
       "\n",
       "    .dataframe tbody tr th {\n",
       "        vertical-align: top;\n",
       "    }\n",
       "\n",
       "    .dataframe thead th {\n",
       "        text-align: right;\n",
       "    }\n",
       "</style>\n",
       "<table border=\"1\" class=\"dataframe\">\n",
       "  <thead>\n",
       "    <tr style=\"text-align: right;\">\n",
       "      <th></th>\n",
       "      <th>type</th>\n",
       "      <th>fixed acidity</th>\n",
       "      <th>volatile acidity</th>\n",
       "      <th>citric acid</th>\n",
       "      <th>residual sugar</th>\n",
       "      <th>chlorides</th>\n",
       "      <th>free sulfur dioxide</th>\n",
       "      <th>total sulfur dioxide</th>\n",
       "      <th>density</th>\n",
       "      <th>pH</th>\n",
       "      <th>sulphates</th>\n",
       "      <th>alcohol</th>\n",
       "      <th>quality</th>\n",
       "    </tr>\n",
       "  </thead>\n",
       "  <tbody>\n",
       "    <tr>\n",
       "      <th>0</th>\n",
       "      <td>white</td>\n",
       "      <td>7.0</td>\n",
       "      <td>0.270</td>\n",
       "      <td>0.36</td>\n",
       "      <td>20.7</td>\n",
       "      <td>0.045</td>\n",
       "      <td>45.0</td>\n",
       "      <td>170.0</td>\n",
       "      <td>1.00100</td>\n",
       "      <td>3.00</td>\n",
       "      <td>0.45</td>\n",
       "      <td>8.8</td>\n",
       "      <td>6</td>\n",
       "    </tr>\n",
       "    <tr>\n",
       "      <th>1</th>\n",
       "      <td>white</td>\n",
       "      <td>6.3</td>\n",
       "      <td>0.300</td>\n",
       "      <td>0.34</td>\n",
       "      <td>1.6</td>\n",
       "      <td>0.049</td>\n",
       "      <td>14.0</td>\n",
       "      <td>132.0</td>\n",
       "      <td>0.99400</td>\n",
       "      <td>3.30</td>\n",
       "      <td>0.49</td>\n",
       "      <td>9.5</td>\n",
       "      <td>6</td>\n",
       "    </tr>\n",
       "    <tr>\n",
       "      <th>2</th>\n",
       "      <td>white</td>\n",
       "      <td>8.1</td>\n",
       "      <td>0.280</td>\n",
       "      <td>0.40</td>\n",
       "      <td>6.9</td>\n",
       "      <td>0.050</td>\n",
       "      <td>30.0</td>\n",
       "      <td>97.0</td>\n",
       "      <td>0.99510</td>\n",
       "      <td>3.26</td>\n",
       "      <td>0.44</td>\n",
       "      <td>10.1</td>\n",
       "      <td>6</td>\n",
       "    </tr>\n",
       "    <tr>\n",
       "      <th>3</th>\n",
       "      <td>white</td>\n",
       "      <td>7.2</td>\n",
       "      <td>0.230</td>\n",
       "      <td>0.32</td>\n",
       "      <td>8.5</td>\n",
       "      <td>0.058</td>\n",
       "      <td>47.0</td>\n",
       "      <td>186.0</td>\n",
       "      <td>0.99560</td>\n",
       "      <td>3.19</td>\n",
       "      <td>0.40</td>\n",
       "      <td>9.9</td>\n",
       "      <td>6</td>\n",
       "    </tr>\n",
       "    <tr>\n",
       "      <th>4</th>\n",
       "      <td>white</td>\n",
       "      <td>7.2</td>\n",
       "      <td>0.230</td>\n",
       "      <td>0.32</td>\n",
       "      <td>8.5</td>\n",
       "      <td>0.058</td>\n",
       "      <td>47.0</td>\n",
       "      <td>186.0</td>\n",
       "      <td>0.99560</td>\n",
       "      <td>3.19</td>\n",
       "      <td>0.40</td>\n",
       "      <td>9.9</td>\n",
       "      <td>6</td>\n",
       "    </tr>\n",
       "    <tr>\n",
       "      <th>...</th>\n",
       "      <td>...</td>\n",
       "      <td>...</td>\n",
       "      <td>...</td>\n",
       "      <td>...</td>\n",
       "      <td>...</td>\n",
       "      <td>...</td>\n",
       "      <td>...</td>\n",
       "      <td>...</td>\n",
       "      <td>...</td>\n",
       "      <td>...</td>\n",
       "      <td>...</td>\n",
       "      <td>...</td>\n",
       "      <td>...</td>\n",
       "    </tr>\n",
       "    <tr>\n",
       "      <th>6492</th>\n",
       "      <td>red</td>\n",
       "      <td>6.2</td>\n",
       "      <td>0.600</td>\n",
       "      <td>0.08</td>\n",
       "      <td>2.0</td>\n",
       "      <td>0.090</td>\n",
       "      <td>32.0</td>\n",
       "      <td>44.0</td>\n",
       "      <td>0.99490</td>\n",
       "      <td>3.45</td>\n",
       "      <td>0.58</td>\n",
       "      <td>10.5</td>\n",
       "      <td>5</td>\n",
       "    </tr>\n",
       "    <tr>\n",
       "      <th>6493</th>\n",
       "      <td>red</td>\n",
       "      <td>5.9</td>\n",
       "      <td>0.550</td>\n",
       "      <td>0.10</td>\n",
       "      <td>2.2</td>\n",
       "      <td>0.062</td>\n",
       "      <td>39.0</td>\n",
       "      <td>51.0</td>\n",
       "      <td>0.99512</td>\n",
       "      <td>3.52</td>\n",
       "      <td>NaN</td>\n",
       "      <td>11.2</td>\n",
       "      <td>6</td>\n",
       "    </tr>\n",
       "    <tr>\n",
       "      <th>6494</th>\n",
       "      <td>red</td>\n",
       "      <td>6.3</td>\n",
       "      <td>0.510</td>\n",
       "      <td>0.13</td>\n",
       "      <td>2.3</td>\n",
       "      <td>0.076</td>\n",
       "      <td>29.0</td>\n",
       "      <td>40.0</td>\n",
       "      <td>0.99574</td>\n",
       "      <td>3.42</td>\n",
       "      <td>0.75</td>\n",
       "      <td>11.0</td>\n",
       "      <td>6</td>\n",
       "    </tr>\n",
       "    <tr>\n",
       "      <th>6495</th>\n",
       "      <td>red</td>\n",
       "      <td>5.9</td>\n",
       "      <td>0.645</td>\n",
       "      <td>0.12</td>\n",
       "      <td>2.0</td>\n",
       "      <td>0.075</td>\n",
       "      <td>32.0</td>\n",
       "      <td>44.0</td>\n",
       "      <td>0.99547</td>\n",
       "      <td>3.57</td>\n",
       "      <td>0.71</td>\n",
       "      <td>10.2</td>\n",
       "      <td>5</td>\n",
       "    </tr>\n",
       "    <tr>\n",
       "      <th>6496</th>\n",
       "      <td>red</td>\n",
       "      <td>6.0</td>\n",
       "      <td>0.310</td>\n",
       "      <td>0.47</td>\n",
       "      <td>3.6</td>\n",
       "      <td>0.067</td>\n",
       "      <td>18.0</td>\n",
       "      <td>42.0</td>\n",
       "      <td>0.99549</td>\n",
       "      <td>3.39</td>\n",
       "      <td>0.66</td>\n",
       "      <td>11.0</td>\n",
       "      <td>6</td>\n",
       "    </tr>\n",
       "  </tbody>\n",
       "</table>\n",
       "<p>6497 rows × 13 columns</p>\n",
       "</div>"
      ],
      "text/plain": [
       "       type  fixed acidity  volatile acidity  citric acid  residual sugar  \\\n",
       "0     white            7.0             0.270         0.36            20.7   \n",
       "1     white            6.3             0.300         0.34             1.6   \n",
       "2     white            8.1             0.280         0.40             6.9   \n",
       "3     white            7.2             0.230         0.32             8.5   \n",
       "4     white            7.2             0.230         0.32             8.5   \n",
       "...     ...            ...               ...          ...             ...   \n",
       "6492    red            6.2             0.600         0.08             2.0   \n",
       "6493    red            5.9             0.550         0.10             2.2   \n",
       "6494    red            6.3             0.510         0.13             2.3   \n",
       "6495    red            5.9             0.645         0.12             2.0   \n",
       "6496    red            6.0             0.310         0.47             3.6   \n",
       "\n",
       "      chlorides  free sulfur dioxide  total sulfur dioxide  density    pH  \\\n",
       "0         0.045                 45.0                 170.0  1.00100  3.00   \n",
       "1         0.049                 14.0                 132.0  0.99400  3.30   \n",
       "2         0.050                 30.0                  97.0  0.99510  3.26   \n",
       "3         0.058                 47.0                 186.0  0.99560  3.19   \n",
       "4         0.058                 47.0                 186.0  0.99560  3.19   \n",
       "...         ...                  ...                   ...      ...   ...   \n",
       "6492      0.090                 32.0                  44.0  0.99490  3.45   \n",
       "6493      0.062                 39.0                  51.0  0.99512  3.52   \n",
       "6494      0.076                 29.0                  40.0  0.99574  3.42   \n",
       "6495      0.075                 32.0                  44.0  0.99547  3.57   \n",
       "6496      0.067                 18.0                  42.0  0.99549  3.39   \n",
       "\n",
       "      sulphates  alcohol  quality  \n",
       "0          0.45      8.8        6  \n",
       "1          0.49      9.5        6  \n",
       "2          0.44     10.1        6  \n",
       "3          0.40      9.9        6  \n",
       "4          0.40      9.9        6  \n",
       "...         ...      ...      ...  \n",
       "6492       0.58     10.5        5  \n",
       "6493        NaN     11.2        6  \n",
       "6494       0.75     11.0        6  \n",
       "6495       0.71     10.2        5  \n",
       "6496       0.66     11.0        6  \n",
       "\n",
       "[6497 rows x 13 columns]"
      ]
     },
     "execution_count": 3,
     "metadata": {},
     "output_type": "execute_result"
    }
   ],
   "source": [
    "w"
   ]
  },
  {
   "cell_type": "code",
   "execution_count": 4,
   "id": "33954122",
   "metadata": {},
   "outputs": [
    {
     "data": {
      "text/plain": [
       "array(['white', 'red'], dtype=object)"
      ]
     },
     "execution_count": 4,
     "metadata": {},
     "output_type": "execute_result"
    }
   ],
   "source": [
    "w['type'].unique()"
   ]
  },
  {
   "cell_type": "code",
   "execution_count": 5,
   "id": "7ad1a4f2",
   "metadata": {},
   "outputs": [
    {
     "data": {
      "text/html": [
       "<div>\n",
       "<style scoped>\n",
       "    .dataframe tbody tr th:only-of-type {\n",
       "        vertical-align: middle;\n",
       "    }\n",
       "\n",
       "    .dataframe tbody tr th {\n",
       "        vertical-align: top;\n",
       "    }\n",
       "\n",
       "    .dataframe thead th {\n",
       "        text-align: right;\n",
       "    }\n",
       "</style>\n",
       "<table border=\"1\" class=\"dataframe\">\n",
       "  <thead>\n",
       "    <tr style=\"text-align: right;\">\n",
       "      <th></th>\n",
       "      <th>fixed acidity</th>\n",
       "      <th>volatile acidity</th>\n",
       "      <th>citric acid</th>\n",
       "      <th>residual sugar</th>\n",
       "      <th>chlorides</th>\n",
       "      <th>free sulfur dioxide</th>\n",
       "      <th>total sulfur dioxide</th>\n",
       "      <th>density</th>\n",
       "      <th>pH</th>\n",
       "      <th>sulphates</th>\n",
       "      <th>alcohol</th>\n",
       "      <th>quality</th>\n",
       "    </tr>\n",
       "  </thead>\n",
       "  <tbody>\n",
       "    <tr>\n",
       "      <th>count</th>\n",
       "      <td>6487.000000</td>\n",
       "      <td>6489.000000</td>\n",
       "      <td>6494.000000</td>\n",
       "      <td>6495.000000</td>\n",
       "      <td>6495.000000</td>\n",
       "      <td>6497.000000</td>\n",
       "      <td>6497.000000</td>\n",
       "      <td>6497.000000</td>\n",
       "      <td>6488.000000</td>\n",
       "      <td>6493.000000</td>\n",
       "      <td>6497.000000</td>\n",
       "      <td>6497.000000</td>\n",
       "    </tr>\n",
       "    <tr>\n",
       "      <th>mean</th>\n",
       "      <td>7.216579</td>\n",
       "      <td>0.339691</td>\n",
       "      <td>0.318722</td>\n",
       "      <td>5.444326</td>\n",
       "      <td>0.056042</td>\n",
       "      <td>30.525319</td>\n",
       "      <td>115.744574</td>\n",
       "      <td>0.994697</td>\n",
       "      <td>3.218395</td>\n",
       "      <td>0.531215</td>\n",
       "      <td>10.491801</td>\n",
       "      <td>5.818378</td>\n",
       "    </tr>\n",
       "    <tr>\n",
       "      <th>std</th>\n",
       "      <td>1.296750</td>\n",
       "      <td>0.164649</td>\n",
       "      <td>0.145265</td>\n",
       "      <td>4.758125</td>\n",
       "      <td>0.035036</td>\n",
       "      <td>17.749400</td>\n",
       "      <td>56.521855</td>\n",
       "      <td>0.002999</td>\n",
       "      <td>0.160748</td>\n",
       "      <td>0.148814</td>\n",
       "      <td>1.192712</td>\n",
       "      <td>0.873255</td>\n",
       "    </tr>\n",
       "    <tr>\n",
       "      <th>min</th>\n",
       "      <td>3.800000</td>\n",
       "      <td>0.080000</td>\n",
       "      <td>0.000000</td>\n",
       "      <td>0.600000</td>\n",
       "      <td>0.009000</td>\n",
       "      <td>1.000000</td>\n",
       "      <td>6.000000</td>\n",
       "      <td>0.987110</td>\n",
       "      <td>2.720000</td>\n",
       "      <td>0.220000</td>\n",
       "      <td>8.000000</td>\n",
       "      <td>3.000000</td>\n",
       "    </tr>\n",
       "    <tr>\n",
       "      <th>25%</th>\n",
       "      <td>6.400000</td>\n",
       "      <td>0.230000</td>\n",
       "      <td>0.250000</td>\n",
       "      <td>1.800000</td>\n",
       "      <td>0.038000</td>\n",
       "      <td>17.000000</td>\n",
       "      <td>77.000000</td>\n",
       "      <td>0.992340</td>\n",
       "      <td>3.110000</td>\n",
       "      <td>0.430000</td>\n",
       "      <td>9.500000</td>\n",
       "      <td>5.000000</td>\n",
       "    </tr>\n",
       "    <tr>\n",
       "      <th>50%</th>\n",
       "      <td>7.000000</td>\n",
       "      <td>0.290000</td>\n",
       "      <td>0.310000</td>\n",
       "      <td>3.000000</td>\n",
       "      <td>0.047000</td>\n",
       "      <td>29.000000</td>\n",
       "      <td>118.000000</td>\n",
       "      <td>0.994890</td>\n",
       "      <td>3.210000</td>\n",
       "      <td>0.510000</td>\n",
       "      <td>10.300000</td>\n",
       "      <td>6.000000</td>\n",
       "    </tr>\n",
       "    <tr>\n",
       "      <th>75%</th>\n",
       "      <td>7.700000</td>\n",
       "      <td>0.400000</td>\n",
       "      <td>0.390000</td>\n",
       "      <td>8.100000</td>\n",
       "      <td>0.065000</td>\n",
       "      <td>41.000000</td>\n",
       "      <td>156.000000</td>\n",
       "      <td>0.996990</td>\n",
       "      <td>3.320000</td>\n",
       "      <td>0.600000</td>\n",
       "      <td>11.300000</td>\n",
       "      <td>6.000000</td>\n",
       "    </tr>\n",
       "    <tr>\n",
       "      <th>max</th>\n",
       "      <td>15.900000</td>\n",
       "      <td>1.580000</td>\n",
       "      <td>1.660000</td>\n",
       "      <td>65.800000</td>\n",
       "      <td>0.611000</td>\n",
       "      <td>289.000000</td>\n",
       "      <td>440.000000</td>\n",
       "      <td>1.038980</td>\n",
       "      <td>4.010000</td>\n",
       "      <td>2.000000</td>\n",
       "      <td>14.900000</td>\n",
       "      <td>9.000000</td>\n",
       "    </tr>\n",
       "  </tbody>\n",
       "</table>\n",
       "</div>"
      ],
      "text/plain": [
       "       fixed acidity  volatile acidity  citric acid  residual sugar  \\\n",
       "count    6487.000000       6489.000000  6494.000000     6495.000000   \n",
       "mean        7.216579          0.339691     0.318722        5.444326   \n",
       "std         1.296750          0.164649     0.145265        4.758125   \n",
       "min         3.800000          0.080000     0.000000        0.600000   \n",
       "25%         6.400000          0.230000     0.250000        1.800000   \n",
       "50%         7.000000          0.290000     0.310000        3.000000   \n",
       "75%         7.700000          0.400000     0.390000        8.100000   \n",
       "max        15.900000          1.580000     1.660000       65.800000   \n",
       "\n",
       "         chlorides  free sulfur dioxide  total sulfur dioxide      density  \\\n",
       "count  6495.000000          6497.000000           6497.000000  6497.000000   \n",
       "mean      0.056042            30.525319            115.744574     0.994697   \n",
       "std       0.035036            17.749400             56.521855     0.002999   \n",
       "min       0.009000             1.000000              6.000000     0.987110   \n",
       "25%       0.038000            17.000000             77.000000     0.992340   \n",
       "50%       0.047000            29.000000            118.000000     0.994890   \n",
       "75%       0.065000            41.000000            156.000000     0.996990   \n",
       "max       0.611000           289.000000            440.000000     1.038980   \n",
       "\n",
       "                pH    sulphates      alcohol      quality  \n",
       "count  6488.000000  6493.000000  6497.000000  6497.000000  \n",
       "mean      3.218395     0.531215    10.491801     5.818378  \n",
       "std       0.160748     0.148814     1.192712     0.873255  \n",
       "min       2.720000     0.220000     8.000000     3.000000  \n",
       "25%       3.110000     0.430000     9.500000     5.000000  \n",
       "50%       3.210000     0.510000    10.300000     6.000000  \n",
       "75%       3.320000     0.600000    11.300000     6.000000  \n",
       "max       4.010000     2.000000    14.900000     9.000000  "
      ]
     },
     "execution_count": 5,
     "metadata": {},
     "output_type": "execute_result"
    }
   ],
   "source": [
    "w.describe()"
   ]
  },
  {
   "cell_type": "markdown",
   "id": "b8fb406f",
   "metadata": {},
   "source": [
    "## HANDLING MISSING VALUE"
   ]
  },
  {
   "cell_type": "code",
   "execution_count": 6,
   "id": "33dc0bee",
   "metadata": {},
   "outputs": [
    {
     "data": {
      "text/plain": [
       "type                     0\n",
       "fixed acidity           10\n",
       "volatile acidity         8\n",
       "citric acid              3\n",
       "residual sugar           2\n",
       "chlorides                2\n",
       "free sulfur dioxide      0\n",
       "total sulfur dioxide     0\n",
       "density                  0\n",
       "pH                       9\n",
       "sulphates                4\n",
       "alcohol                  0\n",
       "quality                  0\n",
       "dtype: int64"
      ]
     },
     "execution_count": 6,
     "metadata": {},
     "output_type": "execute_result"
    }
   ],
   "source": [
    "w.isnull().sum()"
   ]
  },
  {
   "cell_type": "code",
   "execution_count": 7,
   "id": "28cafab9",
   "metadata": {},
   "outputs": [],
   "source": [
    "w.dropna(inplace=True)"
   ]
  },
  {
   "cell_type": "code",
   "execution_count": 8,
   "id": "c194e2d1",
   "metadata": {},
   "outputs": [
    {
     "data": {
      "text/plain": [
       "(6463, 13)"
      ]
     },
     "execution_count": 8,
     "metadata": {},
     "output_type": "execute_result"
    }
   ],
   "source": [
    "w.shape"
   ]
  },
  {
   "cell_type": "markdown",
   "id": "2c74f6ec",
   "metadata": {},
   "source": [
    "## CHECK DUPLICATE RECORDS"
   ]
  },
  {
   "cell_type": "code",
   "execution_count": 9,
   "id": "eaf0bb7e",
   "metadata": {},
   "outputs": [
    {
     "data": {
      "text/plain": [
       "(6463, 13)"
      ]
     },
     "execution_count": 9,
     "metadata": {},
     "output_type": "execute_result"
    }
   ],
   "source": [
    "w.shape"
   ]
  },
  {
   "cell_type": "code",
   "execution_count": 10,
   "id": "2934a304",
   "metadata": {},
   "outputs": [
    {
     "name": "stdout",
     "output_type": "stream",
     "text": [
      "1168\n"
     ]
    },
    {
     "data": {
      "text/html": [
       "<div>\n",
       "<style scoped>\n",
       "    .dataframe tbody tr th:only-of-type {\n",
       "        vertical-align: middle;\n",
       "    }\n",
       "\n",
       "    .dataframe tbody tr th {\n",
       "        vertical-align: top;\n",
       "    }\n",
       "\n",
       "    .dataframe thead th {\n",
       "        text-align: right;\n",
       "    }\n",
       "</style>\n",
       "<table border=\"1\" class=\"dataframe\">\n",
       "  <thead>\n",
       "    <tr style=\"text-align: right;\">\n",
       "      <th></th>\n",
       "      <th>type</th>\n",
       "      <th>fixed acidity</th>\n",
       "      <th>volatile acidity</th>\n",
       "      <th>citric acid</th>\n",
       "      <th>residual sugar</th>\n",
       "      <th>chlorides</th>\n",
       "      <th>free sulfur dioxide</th>\n",
       "      <th>total sulfur dioxide</th>\n",
       "      <th>density</th>\n",
       "      <th>pH</th>\n",
       "      <th>sulphates</th>\n",
       "      <th>alcohol</th>\n",
       "      <th>quality</th>\n",
       "    </tr>\n",
       "  </thead>\n",
       "  <tbody>\n",
       "    <tr>\n",
       "      <th>4</th>\n",
       "      <td>white</td>\n",
       "      <td>7.2</td>\n",
       "      <td>0.230</td>\n",
       "      <td>0.32</td>\n",
       "      <td>8.50</td>\n",
       "      <td>0.058</td>\n",
       "      <td>47.0</td>\n",
       "      <td>186.0</td>\n",
       "      <td>0.99560</td>\n",
       "      <td>3.19</td>\n",
       "      <td>0.40</td>\n",
       "      <td>9.9</td>\n",
       "      <td>6</td>\n",
       "    </tr>\n",
       "    <tr>\n",
       "      <th>5</th>\n",
       "      <td>white</td>\n",
       "      <td>8.1</td>\n",
       "      <td>0.280</td>\n",
       "      <td>0.40</td>\n",
       "      <td>6.90</td>\n",
       "      <td>0.050</td>\n",
       "      <td>30.0</td>\n",
       "      <td>97.0</td>\n",
       "      <td>0.99510</td>\n",
       "      <td>3.26</td>\n",
       "      <td>0.44</td>\n",
       "      <td>10.1</td>\n",
       "      <td>6</td>\n",
       "    </tr>\n",
       "    <tr>\n",
       "      <th>7</th>\n",
       "      <td>white</td>\n",
       "      <td>7.0</td>\n",
       "      <td>0.270</td>\n",
       "      <td>0.36</td>\n",
       "      <td>20.70</td>\n",
       "      <td>0.045</td>\n",
       "      <td>45.0</td>\n",
       "      <td>170.0</td>\n",
       "      <td>1.00100</td>\n",
       "      <td>3.00</td>\n",
       "      <td>0.45</td>\n",
       "      <td>8.8</td>\n",
       "      <td>6</td>\n",
       "    </tr>\n",
       "    <tr>\n",
       "      <th>8</th>\n",
       "      <td>white</td>\n",
       "      <td>6.3</td>\n",
       "      <td>0.300</td>\n",
       "      <td>0.34</td>\n",
       "      <td>1.60</td>\n",
       "      <td>0.049</td>\n",
       "      <td>14.0</td>\n",
       "      <td>132.0</td>\n",
       "      <td>0.99400</td>\n",
       "      <td>3.30</td>\n",
       "      <td>0.49</td>\n",
       "      <td>9.5</td>\n",
       "      <td>6</td>\n",
       "    </tr>\n",
       "    <tr>\n",
       "      <th>39</th>\n",
       "      <td>white</td>\n",
       "      <td>7.3</td>\n",
       "      <td>0.240</td>\n",
       "      <td>0.39</td>\n",
       "      <td>17.95</td>\n",
       "      <td>0.057</td>\n",
       "      <td>45.0</td>\n",
       "      <td>149.0</td>\n",
       "      <td>0.99990</td>\n",
       "      <td>3.21</td>\n",
       "      <td>0.36</td>\n",
       "      <td>8.6</td>\n",
       "      <td>5</td>\n",
       "    </tr>\n",
       "    <tr>\n",
       "      <th>...</th>\n",
       "      <td>...</td>\n",
       "      <td>...</td>\n",
       "      <td>...</td>\n",
       "      <td>...</td>\n",
       "      <td>...</td>\n",
       "      <td>...</td>\n",
       "      <td>...</td>\n",
       "      <td>...</td>\n",
       "      <td>...</td>\n",
       "      <td>...</td>\n",
       "      <td>...</td>\n",
       "      <td>...</td>\n",
       "      <td>...</td>\n",
       "    </tr>\n",
       "    <tr>\n",
       "      <th>6461</th>\n",
       "      <td>red</td>\n",
       "      <td>7.2</td>\n",
       "      <td>0.695</td>\n",
       "      <td>0.13</td>\n",
       "      <td>2.00</td>\n",
       "      <td>0.076</td>\n",
       "      <td>12.0</td>\n",
       "      <td>20.0</td>\n",
       "      <td>0.99546</td>\n",
       "      <td>3.29</td>\n",
       "      <td>0.54</td>\n",
       "      <td>10.1</td>\n",
       "      <td>5</td>\n",
       "    </tr>\n",
       "    <tr>\n",
       "      <th>6462</th>\n",
       "      <td>red</td>\n",
       "      <td>7.2</td>\n",
       "      <td>0.695</td>\n",
       "      <td>0.13</td>\n",
       "      <td>2.00</td>\n",
       "      <td>0.076</td>\n",
       "      <td>12.0</td>\n",
       "      <td>20.0</td>\n",
       "      <td>0.99546</td>\n",
       "      <td>3.29</td>\n",
       "      <td>0.54</td>\n",
       "      <td>10.1</td>\n",
       "      <td>5</td>\n",
       "    </tr>\n",
       "    <tr>\n",
       "      <th>6465</th>\n",
       "      <td>red</td>\n",
       "      <td>7.2</td>\n",
       "      <td>0.695</td>\n",
       "      <td>0.13</td>\n",
       "      <td>2.00</td>\n",
       "      <td>0.076</td>\n",
       "      <td>12.0</td>\n",
       "      <td>20.0</td>\n",
       "      <td>0.99546</td>\n",
       "      <td>3.29</td>\n",
       "      <td>0.54</td>\n",
       "      <td>10.1</td>\n",
       "      <td>5</td>\n",
       "    </tr>\n",
       "    <tr>\n",
       "      <th>6479</th>\n",
       "      <td>red</td>\n",
       "      <td>6.2</td>\n",
       "      <td>0.560</td>\n",
       "      <td>0.09</td>\n",
       "      <td>1.70</td>\n",
       "      <td>0.053</td>\n",
       "      <td>24.0</td>\n",
       "      <td>32.0</td>\n",
       "      <td>0.99402</td>\n",
       "      <td>3.54</td>\n",
       "      <td>0.60</td>\n",
       "      <td>11.3</td>\n",
       "      <td>5</td>\n",
       "    </tr>\n",
       "    <tr>\n",
       "      <th>6494</th>\n",
       "      <td>red</td>\n",
       "      <td>6.3</td>\n",
       "      <td>0.510</td>\n",
       "      <td>0.13</td>\n",
       "      <td>2.30</td>\n",
       "      <td>0.076</td>\n",
       "      <td>29.0</td>\n",
       "      <td>40.0</td>\n",
       "      <td>0.99574</td>\n",
       "      <td>3.42</td>\n",
       "      <td>0.75</td>\n",
       "      <td>11.0</td>\n",
       "      <td>6</td>\n",
       "    </tr>\n",
       "  </tbody>\n",
       "</table>\n",
       "<p>1168 rows × 13 columns</p>\n",
       "</div>"
      ],
      "text/plain": [
       "       type  fixed acidity  volatile acidity  citric acid  residual sugar  \\\n",
       "4     white            7.2             0.230         0.32            8.50   \n",
       "5     white            8.1             0.280         0.40            6.90   \n",
       "7     white            7.0             0.270         0.36           20.70   \n",
       "8     white            6.3             0.300         0.34            1.60   \n",
       "39    white            7.3             0.240         0.39           17.95   \n",
       "...     ...            ...               ...          ...             ...   \n",
       "6461    red            7.2             0.695         0.13            2.00   \n",
       "6462    red            7.2             0.695         0.13            2.00   \n",
       "6465    red            7.2             0.695         0.13            2.00   \n",
       "6479    red            6.2             0.560         0.09            1.70   \n",
       "6494    red            6.3             0.510         0.13            2.30   \n",
       "\n",
       "      chlorides  free sulfur dioxide  total sulfur dioxide  density    pH  \\\n",
       "4         0.058                 47.0                 186.0  0.99560  3.19   \n",
       "5         0.050                 30.0                  97.0  0.99510  3.26   \n",
       "7         0.045                 45.0                 170.0  1.00100  3.00   \n",
       "8         0.049                 14.0                 132.0  0.99400  3.30   \n",
       "39        0.057                 45.0                 149.0  0.99990  3.21   \n",
       "...         ...                  ...                   ...      ...   ...   \n",
       "6461      0.076                 12.0                  20.0  0.99546  3.29   \n",
       "6462      0.076                 12.0                  20.0  0.99546  3.29   \n",
       "6465      0.076                 12.0                  20.0  0.99546  3.29   \n",
       "6479      0.053                 24.0                  32.0  0.99402  3.54   \n",
       "6494      0.076                 29.0                  40.0  0.99574  3.42   \n",
       "\n",
       "      sulphates  alcohol  quality  \n",
       "4          0.40      9.9        6  \n",
       "5          0.44     10.1        6  \n",
       "7          0.45      8.8        6  \n",
       "8          0.49      9.5        6  \n",
       "39         0.36      8.6        5  \n",
       "...         ...      ...      ...  \n",
       "6461       0.54     10.1        5  \n",
       "6462       0.54     10.1        5  \n",
       "6465       0.54     10.1        5  \n",
       "6479       0.60     11.3        5  \n",
       "6494       0.75     11.0        6  \n",
       "\n",
       "[1168 rows x 13 columns]"
      ]
     },
     "execution_count": 10,
     "metadata": {},
     "output_type": "execute_result"
    }
   ],
   "source": [
    "duplicate=w.duplicated()\n",
    "print(duplicate.sum())\n",
    "w[duplicate]"
   ]
  },
  {
   "cell_type": "code",
   "execution_count": null,
   "id": "0755950f",
   "metadata": {},
   "outputs": [],
   "source": []
  },
  {
   "cell_type": "markdown",
   "id": "1fc0f9f0",
   "metadata": {},
   "source": [
    "## DROPPING DUPLICATES"
   ]
  },
  {
   "cell_type": "code",
   "execution_count": 11,
   "id": "ecffb474",
   "metadata": {},
   "outputs": [],
   "source": [
    "w.drop_duplicates(inplace=True)"
   ]
  },
  {
   "cell_type": "code",
   "execution_count": 12,
   "id": "2441ae65",
   "metadata": {},
   "outputs": [
    {
     "data": {
      "text/plain": [
       "(5295, 13)"
      ]
     },
     "execution_count": 12,
     "metadata": {},
     "output_type": "execute_result"
    }
   ],
   "source": [
    "w.shape"
   ]
  },
  {
   "cell_type": "code",
   "execution_count": 13,
   "id": "7b4ff937",
   "metadata": {},
   "outputs": [
    {
     "name": "stdout",
     "output_type": "stream",
     "text": [
      "0\n"
     ]
    },
    {
     "data": {
      "text/html": [
       "<div>\n",
       "<style scoped>\n",
       "    .dataframe tbody tr th:only-of-type {\n",
       "        vertical-align: middle;\n",
       "    }\n",
       "\n",
       "    .dataframe tbody tr th {\n",
       "        vertical-align: top;\n",
       "    }\n",
       "\n",
       "    .dataframe thead th {\n",
       "        text-align: right;\n",
       "    }\n",
       "</style>\n",
       "<table border=\"1\" class=\"dataframe\">\n",
       "  <thead>\n",
       "    <tr style=\"text-align: right;\">\n",
       "      <th></th>\n",
       "      <th>type</th>\n",
       "      <th>fixed acidity</th>\n",
       "      <th>volatile acidity</th>\n",
       "      <th>citric acid</th>\n",
       "      <th>residual sugar</th>\n",
       "      <th>chlorides</th>\n",
       "      <th>free sulfur dioxide</th>\n",
       "      <th>total sulfur dioxide</th>\n",
       "      <th>density</th>\n",
       "      <th>pH</th>\n",
       "      <th>sulphates</th>\n",
       "      <th>alcohol</th>\n",
       "      <th>quality</th>\n",
       "    </tr>\n",
       "  </thead>\n",
       "  <tbody>\n",
       "  </tbody>\n",
       "</table>\n",
       "</div>"
      ],
      "text/plain": [
       "Empty DataFrame\n",
       "Columns: [type, fixed acidity, volatile acidity, citric acid, residual sugar, chlorides, free sulfur dioxide, total sulfur dioxide, density, pH, sulphates, alcohol, quality]\n",
       "Index: []"
      ]
     },
     "execution_count": 13,
     "metadata": {},
     "output_type": "execute_result"
    }
   ],
   "source": [
    "duplicate=w.duplicated()\n",
    "print(duplicate.sum())\n",
    "w[duplicate]"
   ]
  },
  {
   "cell_type": "markdown",
   "id": "e82261cb",
   "metadata": {},
   "source": [
    "## data - WINE QUALITY VISUALISATION"
   ]
  },
  {
   "cell_type": "code",
   "execution_count": 14,
   "id": "49ad9a2e",
   "metadata": {},
   "outputs": [
    {
     "name": "stdout",
     "output_type": "stream",
     "text": [
      "6    2311\n",
      "5    1745\n",
      "7     852\n",
      "4     204\n",
      "8     148\n",
      "3      30\n",
      "9       5\n",
      "Name: quality, dtype: int64\n",
      "white    3942\n",
      "red      1353\n",
      "Name: type, dtype: int64\n"
     ]
    }
   ],
   "source": [
    "print(w.quality.value_counts())\n",
    "print(w.type.value_counts())"
   ]
  },
  {
   "cell_type": "code",
   "execution_count": 15,
   "id": "1b476806",
   "metadata": {},
   "outputs": [
    {
     "name": "stderr",
     "output_type": "stream",
     "text": [
      "C:\\Users\\ANKITA GHOSH\\anaconda3\\lib\\site-packages\\seaborn\\_decorators.py:36: FutureWarning: Pass the following variable as a keyword arg: x. From version 0.12, the only valid positional argument will be `data`, and passing other arguments without an explicit keyword will result in an error or misinterpretation.\n",
      "  warnings.warn(\n",
      "C:\\Users\\ANKITA GHOSH\\anaconda3\\lib\\site-packages\\seaborn\\_decorators.py:36: FutureWarning: Pass the following variable as a keyword arg: x. From version 0.12, the only valid positional argument will be `data`, and passing other arguments without an explicit keyword will result in an error or misinterpretation.\n",
      "  warnings.warn(\n"
     ]
    },
    {
     "data": {
      "image/png": "[encoded data removed]",
      "text/plain": [
       "<Figure size 432x288 with 1 Axes>"
      ]
     },
     "metadata": {
      "needs_background": "light"
     },
     "output_type": "display_data"
    }
   ],
   "source": [
    "sns.countplot(w['quality'])\n",
    "sns.countplot(w['type'])\n",
    "plt.grid()\n",
    "plt.show()"
   ]
  },
  {
   "cell_type": "markdown",
   "id": "6efba4b7",
   "metadata": {},
   "source": [
    "## CORRELATION MATRIX"
   ]
  },
  {
   "cell_type": "code",
   "execution_count": 16,
   "id": "486170a9",
   "metadata": {},
   "outputs": [
    {
     "data": {
      "text/html": [
       "<div>\n",
       "<style scoped>\n",
       "    .dataframe tbody tr th:only-of-type {\n",
       "        vertical-align: middle;\n",
       "    }\n",
       "\n",
       "    .dataframe tbody tr th {\n",
       "        vertical-align: top;\n",
       "    }\n",
       "\n",
       "    .dataframe thead th {\n",
       "        text-align: right;\n",
       "    }\n",
       "</style>\n",
       "<table border=\"1\" class=\"dataframe\">\n",
       "  <thead>\n",
       "    <tr style=\"text-align: right;\">\n",
       "      <th></th>\n",
       "      <th>fixed acidity</th>\n",
       "      <th>volatile acidity</th>\n",
       "      <th>citric acid</th>\n",
       "      <th>residual sugar</th>\n",
       "      <th>chlorides</th>\n",
       "      <th>free sulfur dioxide</th>\n",
       "      <th>total sulfur dioxide</th>\n",
       "      <th>density</th>\n",
       "      <th>pH</th>\n",
       "      <th>sulphates</th>\n",
       "      <th>alcohol</th>\n",
       "      <th>quality</th>\n",
       "    </tr>\n",
       "  </thead>\n",
       "  <tbody>\n",
       "    <tr>\n",
       "      <th>fixed acidity</th>\n",
       "      <td>1.000000</td>\n",
       "      <td>0.216524</td>\n",
       "      <td>0.329252</td>\n",
       "      <td>-0.106084</td>\n",
       "      <td>0.289903</td>\n",
       "      <td>-0.282025</td>\n",
       "      <td>-0.328631</td>\n",
       "      <td>0.478920</td>\n",
       "      <td>-0.269624</td>\n",
       "      <td>0.307044</td>\n",
       "      <td>-0.103657</td>\n",
       "      <td>-0.079599</td>\n",
       "    </tr>\n",
       "    <tr>\n",
       "      <th>volatile acidity</th>\n",
       "      <td>0.216524</td>\n",
       "      <td>1.000000</td>\n",
       "      <td>-0.382750</td>\n",
       "      <td>-0.164438</td>\n",
       "      <td>0.368266</td>\n",
       "      <td>-0.349784</td>\n",
       "      <td>-0.401231</td>\n",
       "      <td>0.308416</td>\n",
       "      <td>0.245329</td>\n",
       "      <td>0.226537</td>\n",
       "      <td>-0.066781</td>\n",
       "      <td>-0.265214</td>\n",
       "    </tr>\n",
       "    <tr>\n",
       "      <th>citric acid</th>\n",
       "      <td>0.329252</td>\n",
       "      <td>-0.382750</td>\n",
       "      <td>1.000000</td>\n",
       "      <td>0.146528</td>\n",
       "      <td>0.055266</td>\n",
       "      <td>0.130802</td>\n",
       "      <td>0.194231</td>\n",
       "      <td>0.095824</td>\n",
       "      <td>-0.342648</td>\n",
       "      <td>0.062121</td>\n",
       "      <td>-0.005124</td>\n",
       "      <td>0.097926</td>\n",
       "    </tr>\n",
       "    <tr>\n",
       "      <th>residual sugar</th>\n",
       "      <td>-0.106084</td>\n",
       "      <td>-0.164438</td>\n",
       "      <td>0.146528</td>\n",
       "      <td>1.000000</td>\n",
       "      <td>-0.123115</td>\n",
       "      <td>0.399579</td>\n",
       "      <td>0.487534</td>\n",
       "      <td>0.520194</td>\n",
       "      <td>-0.233319</td>\n",
       "      <td>-0.174663</td>\n",
       "      <td>-0.305311</td>\n",
       "      <td>-0.054625</td>\n",
       "    </tr>\n",
       "    <tr>\n",
       "      <th>chlorides</th>\n",
       "      <td>0.289903</td>\n",
       "      <td>0.368266</td>\n",
       "      <td>0.055266</td>\n",
       "      <td>-0.123115</td>\n",
       "      <td>1.000000</td>\n",
       "      <td>-0.187312</td>\n",
       "      <td>-0.270009</td>\n",
       "      <td>0.372126</td>\n",
       "      <td>0.025963</td>\n",
       "      <td>0.405771</td>\n",
       "      <td>-0.270196</td>\n",
       "      <td>-0.202016</td>\n",
       "    </tr>\n",
       "    <tr>\n",
       "      <th>free sulfur dioxide</th>\n",
       "      <td>-0.282025</td>\n",
       "      <td>-0.349784</td>\n",
       "      <td>0.130802</td>\n",
       "      <td>0.399579</td>\n",
       "      <td>-0.187312</td>\n",
       "      <td>1.000000</td>\n",
       "      <td>0.721308</td>\n",
       "      <td>0.005827</td>\n",
       "      <td>-0.141368</td>\n",
       "      <td>-0.199005</td>\n",
       "      <td>-0.169854</td>\n",
       "      <td>0.053786</td>\n",
       "    </tr>\n",
       "    <tr>\n",
       "      <th>total sulfur dioxide</th>\n",
       "      <td>-0.328631</td>\n",
       "      <td>-0.401231</td>\n",
       "      <td>0.194231</td>\n",
       "      <td>0.487534</td>\n",
       "      <td>-0.270009</td>\n",
       "      <td>0.721308</td>\n",
       "      <td>1.000000</td>\n",
       "      <td>0.005974</td>\n",
       "      <td>-0.222003</td>\n",
       "      <td>-0.275389</td>\n",
       "      <td>-0.247779</td>\n",
       "      <td>-0.050728</td>\n",
       "    </tr>\n",
       "    <tr>\n",
       "      <th>density</th>\n",
       "      <td>0.478920</td>\n",
       "      <td>0.308416</td>\n",
       "      <td>0.095824</td>\n",
       "      <td>0.520194</td>\n",
       "      <td>0.372126</td>\n",
       "      <td>0.005827</td>\n",
       "      <td>0.005974</td>\n",
       "      <td>1.000000</td>\n",
       "      <td>0.034979</td>\n",
       "      <td>0.283042</td>\n",
       "      <td>-0.668950</td>\n",
       "      <td>-0.325338</td>\n",
       "    </tr>\n",
       "    <tr>\n",
       "      <th>pH</th>\n",
       "      <td>-0.269624</td>\n",
       "      <td>0.245329</td>\n",
       "      <td>-0.342648</td>\n",
       "      <td>-0.233319</td>\n",
       "      <td>0.025963</td>\n",
       "      <td>-0.141368</td>\n",
       "      <td>-0.222003</td>\n",
       "      <td>0.034979</td>\n",
       "      <td>1.000000</td>\n",
       "      <td>0.166139</td>\n",
       "      <td>0.096615</td>\n",
       "      <td>0.038903</td>\n",
       "    </tr>\n",
       "    <tr>\n",
       "      <th>sulphates</th>\n",
       "      <td>0.307044</td>\n",
       "      <td>0.226537</td>\n",
       "      <td>0.062121</td>\n",
       "      <td>-0.174663</td>\n",
       "      <td>0.405771</td>\n",
       "      <td>-0.199005</td>\n",
       "      <td>-0.275389</td>\n",
       "      <td>0.283042</td>\n",
       "      <td>0.166139</td>\n",
       "      <td>1.000000</td>\n",
       "      <td>-0.019008</td>\n",
       "      <td>0.041806</td>\n",
       "    </tr>\n",
       "    <tr>\n",
       "      <th>alcohol</th>\n",
       "      <td>-0.103657</td>\n",
       "      <td>-0.066781</td>\n",
       "      <td>-0.005124</td>\n",
       "      <td>-0.305311</td>\n",
       "      <td>-0.270196</td>\n",
       "      <td>-0.169854</td>\n",
       "      <td>-0.247779</td>\n",
       "      <td>-0.668950</td>\n",
       "      <td>0.096615</td>\n",
       "      <td>-0.019008</td>\n",
       "      <td>1.000000</td>\n",
       "      <td>0.470143</td>\n",
       "    </tr>\n",
       "    <tr>\n",
       "      <th>quality</th>\n",
       "      <td>-0.079599</td>\n",
       "      <td>-0.265214</td>\n",
       "      <td>0.097926</td>\n",
       "      <td>-0.054625</td>\n",
       "      <td>-0.202016</td>\n",
       "      <td>0.053786</td>\n",
       "      <td>-0.050728</td>\n",
       "      <td>-0.325338</td>\n",
       "      <td>0.038903</td>\n",
       "      <td>0.041806</td>\n",
       "      <td>0.470143</td>\n",
       "      <td>1.000000</td>\n",
       "    </tr>\n",
       "  </tbody>\n",
       "</table>\n",
       "</div>"
      ],
      "text/plain": [
       "                      fixed acidity  volatile acidity  citric acid  \\\n",
       "fixed acidity              1.000000          0.216524     0.329252   \n",
       "volatile acidity           0.216524          1.000000    -0.382750   \n",
       "citric acid                0.329252         -0.382750     1.000000   \n",
       "residual sugar            -0.106084         -0.164438     0.146528   \n",
       "chlorides                  0.289903          0.368266     0.055266   \n",
       "free sulfur dioxide       -0.282025         -0.349784     0.130802   \n",
       "total sulfur dioxide      -0.328631         -0.401231     0.194231   \n",
       "density                    0.478920          0.308416     0.095824   \n",
       "pH                        -0.269624          0.245329    -0.342648   \n",
       "sulphates                  0.307044          0.226537     0.062121   \n",
       "alcohol                   -0.103657         -0.066781    -0.005124   \n",
       "quality                   -0.079599         -0.265214     0.097926   \n",
       "\n",
       "                      residual sugar  chlorides  free sulfur dioxide  \\\n",
       "fixed acidity              -0.106084   0.289903            -0.282025   \n",
       "volatile acidity           -0.164438   0.368266            -0.349784   \n",
       "citric acid                 0.146528   0.055266             0.130802   \n",
       "residual sugar              1.000000  -0.123115             0.399579   \n",
       "chlorides                  -0.123115   1.000000            -0.187312   \n",
       "free sulfur dioxide         0.399579  -0.187312             1.000000   \n",
       "total sulfur dioxide        0.487534  -0.270009             0.721308   \n",
       "density                     0.520194   0.372126             0.005827   \n",
       "pH                         -0.233319   0.025963            -0.141368   \n",
       "sulphates                  -0.174663   0.405771            -0.199005   \n",
       "alcohol                    -0.305311  -0.270196            -0.169854   \n",
       "quality                    -0.054625  -0.202016             0.053786   \n",
       "\n",
       "                      total sulfur dioxide   density        pH  sulphates  \\\n",
       "fixed acidity                    -0.328631  0.478920 -0.269624   0.307044   \n",
       "volatile acidity                 -0.401231  0.308416  0.245329   0.226537   \n",
       "citric acid                       0.194231  0.095824 -0.342648   0.062121   \n",
       "residual sugar                    0.487534  0.520194 -0.233319  -0.174663   \n",
       "chlorides                        -0.270009  0.372126  0.025963   0.405771   \n",
       "free sulfur dioxide               0.721308  0.005827 -0.141368  -0.199005   \n",
       "total sulfur dioxide              1.000000  0.005974 -0.222003  -0.275389   \n",
       "density                           0.005974  1.000000  0.034979   0.283042   \n",
       "pH                               -0.222003  0.034979  1.000000   0.166139   \n",
       "sulphates                        -0.275389  0.283042  0.166139   1.000000   \n",
       "alcohol                          -0.247779 -0.668950  0.096615  -0.019008   \n",
       "quality                          -0.050728 -0.325338  0.038903   0.041806   \n",
       "\n",
       "                       alcohol   quality  \n",
       "fixed acidity        -0.103657 -0.079599  \n",
       "volatile acidity     -0.066781 -0.265214  \n",
       "citric acid          -0.005124  0.097926  \n",
       "residual sugar       -0.305311 -0.054625  \n",
       "chlorides            -0.270196 -0.202016  \n",
       "free sulfur dioxide  -0.169854  0.053786  \n",
       "total sulfur dioxide -0.247779 -0.050728  \n",
       "density              -0.668950 -0.325338  \n",
       "pH                    0.096615  0.038903  \n",
       "sulphates            -0.019008  0.041806  \n",
       "alcohol               1.000000  0.470143  \n",
       "quality               0.470143  1.000000  "
      ]
     },
     "execution_count": 16,
     "metadata": {},
     "output_type": "execute_result"
    }
   ],
   "source": [
    "w.corr()"
   ]
  },
  {
   "cell_type": "code",
   "execution_count": 17,
   "id": "242cfdf1",
   "metadata": {},
   "outputs": [
    {
     "data": {
      "text/plain": [
       "<AxesSubplot:>"
      ]
     },
     "execution_count": 17,
     "metadata": {},
     "output_type": "execute_result"
    },
    {
     "data": {
      "image/png": "[encoded data removed]",
      "text/plain": [
       "<Figure size 1440x720 with 2 Axes>"
      ]
     },
     "metadata": {
      "needs_background": "light"
     },
     "output_type": "display_data"
    }
   ],
   "source": [
    "corr=w.corr()\n",
    "plt.figure(figsize=(20,10))\n",
    "sns.heatmap(corr,annot=True,cmap='coolwarm')"
   ]
  },
  {
   "cell_type": "markdown",
   "id": "300d415d",
   "metadata": {},
   "source": [
    "## devide the dataframe into\n",
    "                      INDEPENDENT AND DEPENDENT VARIABLE"
   ]
  },
  {
   "cell_type": "code",
   "execution_count": null,
   "id": "e314110e",
   "metadata": {},
   "outputs": [],
   "source": []
  },
  {
   "cell_type": "code",
   "execution_count": null,
   "id": "b8db1e7f",
   "metadata": {},
   "outputs": [],
   "source": []
  },
  {
   "cell_type": "code",
   "execution_count": null,
   "id": "51a7f359",
   "metadata": {},
   "outputs": [],
   "source": []
  },
  {
   "cell_type": "markdown",
   "id": "c98205b1",
   "metadata": {},
   "source": []
  },
  {
   "cell_type": "code",
   "execution_count": 18,
   "id": "45d93f3e",
   "metadata": {},
   "outputs": [],
   "source": [
    "p=w.iloc[:,:-1].values\n",
    "q=w.iloc[:,-1].values"
   ]
  },
  {
   "cell_type": "code",
   "execution_count": 19,
   "id": "1866d800",
   "metadata": {},
   "outputs": [
    {
     "data": {
      "text/plain": [
       "array([['white', 7.0, 0.27, ..., 3.0, 0.45, 8.8],\n",
       "       ['white', 6.3, 0.3, ..., 3.3, 0.49, 9.5],\n",
       "       ['white', 8.1, 0.28, ..., 3.26, 0.44, 10.1],\n",
       "       ...,\n",
       "       ['red', 6.2, 0.6, ..., 3.45, 0.58, 10.5],\n",
       "       ['red', 5.9, 0.645, ..., 3.57, 0.71, 10.2],\n",
       "       ['red', 6.0, 0.31, ..., 3.39, 0.66, 11.0]], dtype=object)"
      ]
     },
     "execution_count": 19,
     "metadata": {},
     "output_type": "execute_result"
    }
   ],
   "source": [
    "p"
   ]
  },
  {
   "cell_type": "code",
   "execution_count": 20,
   "id": "a24b7ab0",
   "metadata": {},
   "outputs": [
    {
     "data": {
      "text/plain": [
       "array([6, 6, 6, ..., 5, 5, 6], dtype=int64)"
      ]
     },
     "execution_count": 20,
     "metadata": {},
     "output_type": "execute_result"
    }
   ],
   "source": [
    "q"
   ]
  },
  {
   "cell_type": "code",
   "execution_count": 21,
   "id": "2cb5e0f7",
   "metadata": {},
   "outputs": [],
   "source": [
    "from sklearn.compose import ColumnTransformer\n",
    "from sklearn.preprocessing import OneHotEncoder\n",
    "from sklearn.preprocessing import LabelEncoder\n",
    "ct=ColumnTransformer(transformers=[(\"encoder\", OneHotEncoder(),[0])],remainder=\"passthrough\")\n",
    "le=LabelEncoder()\n",
    "x=np.array(ct.fit_transform(p))\n",
    "y=le.fit_transform(q)"
   ]
  },
  {
   "cell_type": "code",
   "execution_count": 22,
   "id": "c13876e4",
   "metadata": {},
   "outputs": [
    {
     "data": {
      "text/plain": [
       "array([[0.0, 1.0, 7.0, ..., 3.0, 0.45, 8.8],\n",
       "       [0.0, 1.0, 6.3, ..., 3.3, 0.49, 9.5],\n",
       "       [0.0, 1.0, 8.1, ..., 3.26, 0.44, 10.1],\n",
       "       ...,\n",
       "       [1.0, 0.0, 6.2, ..., 3.45, 0.58, 10.5],\n",
       "       [1.0, 0.0, 5.9, ..., 3.57, 0.71, 10.2],\n",
       "       [1.0, 0.0, 6.0, ..., 3.39, 0.66, 11.0]], dtype=object)"
      ]
     },
     "execution_count": 22,
     "metadata": {},
     "output_type": "execute_result"
    }
   ],
   "source": [
    "x"
   ]
  },
  {
   "cell_type": "code",
   "execution_count": 23,
   "id": "f1931737",
   "metadata": {},
   "outputs": [
    {
     "data": {
      "text/plain": [
       "array([3, 3, 3, ..., 2, 2, 3], dtype=int64)"
      ]
     },
     "execution_count": 23,
     "metadata": {},
     "output_type": "execute_result"
    }
   ],
   "source": [
    "y"
   ]
  },
  {
   "cell_type": "markdown",
   "id": "a8150688",
   "metadata": {},
   "source": [
    "# splitting the dataset"
   ]
  },
  {
   "cell_type": "code",
   "execution_count": 24,
   "id": "975e586e",
   "metadata": {},
   "outputs": [],
   "source": [
    "from sklearn.model_selection import train_test_split\n",
    "x_train,x_test,y_train,y_test=train_test_split(x,y,test_size=0.25,random_state=0)"
   ]
  },
  {
   "cell_type": "code",
   "execution_count": 25,
   "id": "604c9613",
   "metadata": {},
   "outputs": [
    {
     "data": {
      "text/plain": [
       "array([[0.0, 1.0, 5.2, ..., 3.24, 0.54, 10.0],\n",
       "       [0.0, 1.0, 6.5, ..., 3.19, 0.39, 8.5],\n",
       "       [0.0, 1.0, 6.8, ..., 3.15, 0.45, 11.0],\n",
       "       ...,\n",
       "       [0.0, 1.0, 7.0, ..., 3.5, 0.44, 9.6],\n",
       "       [0.0, 1.0, 5.2, ..., 3.14, 0.31, 12.4],\n",
       "       [0.0, 1.0, 6.7, ..., 2.96, 0.39, 12.5]], dtype=object)"
      ]
     },
     "execution_count": 25,
     "metadata": {},
     "output_type": "execute_result"
    }
   ],
   "source": [
    "x_train"
   ]
  },
  {
   "cell_type": "markdown",
   "id": "623b0d38",
   "metadata": {},
   "source": [
    "## FEATURE SCALING-----STANDARDIZATION"
   ]
  },
  {
   "cell_type": "code",
   "execution_count": 26,
   "id": "addae13c",
   "metadata": {},
   "outputs": [],
   "source": [
    "from sklearn.preprocessing import StandardScaler\n",
    "sc=StandardScaler()\n",
    "x_train=sc.fit_transform(x_train)\n",
    "x_test=sc.transform(x_test)"
   ]
  },
  {
   "cell_type": "code",
   "execution_count": 27,
   "id": "c6ce5c5e",
   "metadata": {},
   "outputs": [
    {
     "data": {
      "text/plain": [
       "array([[-0.57861033,  0.57861033, -1.53107719, ...,  0.10832077,\n",
       "         0.04703009, -0.45798938],\n",
       "       [-0.57861033,  0.57861033, -0.55100021, ..., -0.20523936,\n",
       "        -0.95202381, -1.72308868],\n",
       "       [-0.57861033,  0.57861033, -0.3248286 , ..., -0.45608746,\n",
       "        -0.55240225,  0.38541015],\n",
       "       ...,\n",
       "       [-0.57861033,  0.57861033, -0.17404753, ...,  1.73883345,\n",
       "        -0.61900584, -0.79534919],\n",
       "       [-0.57861033,  0.57861033, -1.53107719, ..., -0.51879949,\n",
       "        -1.48485255,  1.5661695 ],\n",
       "       [-0.57861033,  0.57861033, -0.40021914, ..., -1.64761596,\n",
       "        -0.95202381,  1.65050945]])"
      ]
     },
     "execution_count": 27,
     "metadata": {},
     "output_type": "execute_result"
    }
   ],
   "source": [
    "x_train"
   ]
  },
  {
   "cell_type": "markdown",
   "id": "6c4f24cf",
   "metadata": {},
   "source": [
    "# training the decision tree classifier model on the whole dataset"
   ]
  },
  {
   "cell_type": "code",
   "execution_count": 28,
   "id": "a1327ad2",
   "metadata": {},
   "outputs": [
    {
     "data": {
      "text/plain": [
       "DecisionTreeClassifier(criterion='entropy', random_state=0)"
      ]
     },
     "execution_count": 28,
     "metadata": {},
     "output_type": "execute_result"
    }
   ],
   "source": [
    "from sklearn.tree import DecisionTreeClassifier\n",
    "classifier=DecisionTreeClassifier(criterion='entropy',random_state=0)\n",
    "classifier.fit(x_train,y_train)"
   ]
  },
  {
   "cell_type": "code",
   "execution_count": null,
   "id": "2773f7c6",
   "metadata": {},
   "outputs": [],
   "source": []
  },
  {
   "cell_type": "markdown",
   "id": "951e54ae",
   "metadata": {},
   "source": [
    "# predicting....................."
   ]
  },
  {
   "cell_type": "code",
   "execution_count": 29,
   "id": "2d6d44d2",
   "metadata": {},
   "outputs": [
    {
     "name": "stdout",
     "output_type": "stream",
     "text": [
      "[[4 3]\n",
      " [0 1]\n",
      " [3 3]\n",
      " ...\n",
      " [1 1]\n",
      " [3 3]\n",
      " [5 3]]\n"
     ]
    }
   ],
   "source": [
    "y_pred=classifier.predict(x_test)\n",
    "print(np.concatenate((y_pred.reshape(len(y_pred),1),y_test.reshape(len(y_test),1)),axis=1))"
   ]
  },
  {
   "cell_type": "code",
   "execution_count": null,
   "id": "caa879ae",
   "metadata": {},
   "outputs": [],
   "source": []
  },
  {
   "cell_type": "code",
   "execution_count": 30,
   "id": "1d3410a6",
   "metadata": {},
   "outputs": [
    {
     "name": "stdout",
     "output_type": "stream",
     "text": [
      "[3]\n"
     ]
    }
   ],
   "source": [
    "y_pred=classifier.predict([[0.0,1.0,7.2,0.230,0.32,8.50,0.058,47.0,186.0,0.99560,3.19,0.40,9.9]])\n",
    "print(y_pred)"
   ]
  },
  {
   "cell_type": "code",
   "execution_count": 31,
   "id": "e1a897f8",
   "metadata": {},
   "outputs": [
    {
     "name": "stdout",
     "output_type": "stream",
     "text": [
      " so the quality of the wine on a scale of 1 to 10 is :  [3]\n"
     ]
    }
   ],
   "source": [
    "print(' so the quality of the wine on a scale of 1 to 10 is : ', y_pred)"
   ]
  },
  {
   "cell_type": "code",
   "execution_count": null,
   "id": "0047d584",
   "metadata": {},
   "outputs": [],
   "source": []
  },
  {
   "cell_type": "code",
   "execution_count": null,
   "id": "71d49f8e",
   "metadata": {},
   "outputs": [],
   "source": []
  },
  {
   "cell_type": "code",
   "execution_count": null,
   "id": "285ef232",
   "metadata": {},
   "outputs": [],
   "source": []
  },
  {
   "cell_type": "code",
   "execution_count": null,
   "id": "37bfcc7b",
   "metadata": {},
   "outputs": [],
   "source": []
  },
  {
   "cell_type": "code",
   "execution_count": null,
   "id": "e5e07190",
   "metadata": {},
   "outputs": [],
   "source": []
  },
  {
   "cell_type": "code",
   "execution_count": null,
   "id": "138802ec",
   "metadata": {},
   "outputs": [],
   "source": []
  },
  {
   "cell_type": "code",
   "execution_count": null,
   "id": "c9c68107",
   "metadata": {},
   "outputs": [],
   "source": []
  },
  {
   "cell_type": "code",
   "execution_count": null,
   "id": "1b6ed75a",
   "metadata": {},
   "outputs": [],
   "source": []
  },
  {
   "cell_type": "code",
   "execution_count": null,
   "id": "150fb778",
   "metadata": {},
   "outputs": [],
   "source": []
  },
  {
   "cell_type": "code",
   "execution_count": null,
   "id": "06ebd2f4",
   "metadata": {},
   "outputs": [],
   "source": []
  },
  {
   "cell_type": "code",
   "execution_count": null,
   "id": "35e94ae8",
   "metadata": {},
   "outputs": [],
   "source": []
  },
  {
   "cell_type": "code",
   "execution_count": null,
   "id": "09c545f5",
   "metadata": {},
   "outputs": [],
   "source": []
  }
 ],
 "metadata": {
  "kernelspec": {
   "display_name": "Python 3 (ipykernel)",
   "language": "python",
   "name": "python3"
  },
  "language_info": {
   "codemirror_mode": {
    "name": "ipython",
    "version": 3
   },
   "file_extension": ".py",
   "mimetype": "text/x-python",
   "name": "python",
   "nbconvert_exporter": "python",
   "pygments_lexer": "ipython3",
   "version": "3.9.12"
  }
 },
 "nbformat": 4,
 "nbformat_minor": 5
}
